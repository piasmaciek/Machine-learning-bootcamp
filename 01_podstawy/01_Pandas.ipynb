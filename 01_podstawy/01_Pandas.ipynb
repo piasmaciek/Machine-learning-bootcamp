{
  "nbformat": 4,
  "nbformat_minor": 0,
  "metadata": {
    "colab": {
      "name": "01_Pandas.ipynb",
      "provenance": [],
      "authorship_tag": "ABX9TyOrsLPjMDsUmaN2NY10vTGP",
      "include_colab_link": true
    },
    "kernelspec": {
      "name": "python3",
      "display_name": "Python 3"
    },
    "language_info": {
      "name": "python"
    }
  },
  "cells": [
    {
      "cell_type": "markdown",
      "metadata": {
        "id": "view-in-github",
        "colab_type": "text"
      },
      "source": [
        "<a href=\"https://colab.research.google.com/github/piasmaciek/Machine-learning-bootcamp/blob/main/01_podstawy/01_Pandas.ipynb\" target=\"_parent\"><img src=\"https://colab.research.google.com/assets/colab-badge.svg\" alt=\"Open In Colab\"/></a>"
      ]
    },
    {
      "cell_type": "markdown",
      "source": [
        "# 01_Series\n",
        "\n"
      ],
      "metadata": {
        "id": "u5dmdDQRDrlC"
      }
    },
    {
      "cell_type": "code",
      "source": [
        "import pandas as pd\n",
        "import numpy as np #numerical python\n"
      ],
      "metadata": {
        "id": "6DfLALWHDzp7"
      },
      "execution_count": 1,
      "outputs": []
    },
    {
      "cell_type": "code",
      "source": [
        "s = pd.Series(4)\n",
        "s"
      ],
      "metadata": {
        "colab": {
          "base_uri": "https://localhost:8080/"
        },
        "id": "LYMVeJNfEaM2",
        "outputId": "18bc1c1f-cfc7-4c19-e270-e7ebd9c0ac47"
      },
      "execution_count": 3,
      "outputs": [
        {
          "output_type": "execute_result",
          "data": {
            "text/plain": [
              "0    4\n",
              "dtype: int64"
            ]
          },
          "metadata": {},
          "execution_count": 3
        }
      ]
    },
    {
      "cell_type": "code",
      "source": [
        "s_def = pd.Series(data=[21, 34,54], index=['Adam','Tomek','Paweł'],name='age')\n",
        "s_def"
      ],
      "metadata": {
        "colab": {
          "base_uri": "https://localhost:8080/"
        },
        "id": "zmFiwAXxEzb8",
        "outputId": "4b8d4003-36a2-423c-cd98-a1eb843230f4"
      },
      "execution_count": 5,
      "outputs": [
        {
          "output_type": "execute_result",
          "data": {
            "text/plain": [
              "Adam     21\n",
              "Tomek    34\n",
              "Paweł    54\n",
              "Name: age, dtype: int64"
            ]
          },
          "metadata": {},
          "execution_count": 5
        }
      ]
    },
    {
      "cell_type": "code",
      "source": [
        "A = np.random.randn(10)\n",
        "A"
      ],
      "metadata": {
        "colab": {
          "base_uri": "https://localhost:8080/"
        },
        "id": "sYNyIBUsFzVb",
        "outputId": "6ce2f4a0-2c06-4cf4-d125-cc52eec894ae"
      },
      "execution_count": 6,
      "outputs": [
        {
          "output_type": "execute_result",
          "data": {
            "text/plain": [
              "array([-1.56068835,  0.23395274,  1.63788181,  1.92263506,  1.38906405,\n",
              "        0.11821629, -1.18259572, -0.11706245,  2.47876268, -0.1637309 ])"
            ]
          },
          "metadata": {},
          "execution_count": 6
        }
      ]
    },
    {
      "cell_type": "code",
      "source": [
        "s = pd.Series(A)\n",
        "s"
      ],
      "metadata": {
        "colab": {
          "base_uri": "https://localhost:8080/"
        },
        "id": "U8f0j4aSGI4r",
        "outputId": "82cc5ec6-b8a7-41a0-f8ad-24dc90bd7da0"
      },
      "execution_count": 8,
      "outputs": [
        {
          "output_type": "execute_result",
          "data": {
            "text/plain": [
              "0   -1.560688\n",
              "1    0.233953\n",
              "2    1.637882\n",
              "3    1.922635\n",
              "4    1.389064\n",
              "5    0.118216\n",
              "6   -1.182596\n",
              "7   -0.117062\n",
              "8    2.478763\n",
              "9   -0.163731\n",
              "dtype: float64"
            ]
          },
          "metadata": {},
          "execution_count": 8
        }
      ]
    },
    {
      "cell_type": "code",
      "source": [
        "stocks = {'Apple':'USA','CD Projekt':'Poland','Amazon':'USA'}\n",
        "stocks"
      ],
      "metadata": {
        "colab": {
          "base_uri": "https://localhost:8080/"
        },
        "id": "n2CKDkniG0yj",
        "outputId": "c3100d66-e4ea-441a-f3cd-c930e5b2d6af"
      },
      "execution_count": 9,
      "outputs": [
        {
          "output_type": "execute_result",
          "data": {
            "text/plain": [
              "{'Amazon': 'USA', 'Apple': 'USA', 'CD Projekt': 'Poland'}"
            ]
          },
          "metadata": {},
          "execution_count": 9
        }
      ]
    },
    {
      "cell_type": "code",
      "source": [
        "series = pd.Series(stocks)\n",
        "series"
      ],
      "metadata": {
        "colab": {
          "base_uri": "https://localhost:8080/"
        },
        "id": "t-5WTtBhHGV_",
        "outputId": "564c9d2a-2200-43da-fab0-ca81855c27e3"
      },
      "execution_count": 11,
      "outputs": [
        {
          "output_type": "execute_result",
          "data": {
            "text/plain": [
              "Apple            USA\n",
              "CD Projekt    Poland\n",
              "Amazon           USA\n",
              "dtype: object"
            ]
          },
          "metadata": {},
          "execution_count": 11
        }
      ]
    },
    {
      "cell_type": "code",
      "source": [
        "stocks_price = {'Apple': 196,'CD Projekt': 215,'Amazon':1877}\n",
        "stocks_price"
      ],
      "metadata": {
        "colab": {
          "base_uri": "https://localhost:8080/"
        },
        "id": "bj9h3m9JHW5A",
        "outputId": "51865210-48a7-4916-d5ca-96e6de807ded"
      },
      "execution_count": 12,
      "outputs": [
        {
          "output_type": "execute_result",
          "data": {
            "text/plain": [
              "{'Amazon': 1877, 'Apple': 196, 'CD Projekt': 215}"
            ]
          },
          "metadata": {},
          "execution_count": 12
        }
      ]
    },
    {
      "cell_type": "code",
      "source": [
        "stocks_price_series = pd.Series(stocks_price)\n",
        "stocks_price_series"
      ],
      "metadata": {
        "colab": {
          "base_uri": "https://localhost:8080/"
        },
        "id": "539JGEdBHjIX",
        "outputId": "69226efb-6d53-4b13-f466-abfc683f6007"
      },
      "execution_count": 14,
      "outputs": [
        {
          "output_type": "execute_result",
          "data": {
            "text/plain": [
              "Apple          196\n",
              "CD Projekt     215\n",
              "Amazon        1877\n",
              "dtype: int64"
            ]
          },
          "metadata": {},
          "execution_count": 14
        }
      ]
    },
    {
      "cell_type": "code",
      "source": [
        "stocks_price_array = stocks_price_series.values\n",
        "stocks_price_array"
      ],
      "metadata": {
        "colab": {
          "base_uri": "https://localhost:8080/"
        },
        "id": "-HMK1QQxIHxq",
        "outputId": "3f9265f9-2712-4afc-aaa6-60a15cadd672"
      },
      "execution_count": 15,
      "outputs": [
        {
          "output_type": "execute_result",
          "data": {
            "text/plain": [
              "array([ 196,  215, 1877])"
            ]
          },
          "metadata": {},
          "execution_count": 15
        }
      ]
    },
    {
      "cell_type": "code",
      "source": [
        "apple_price = stocks_price_series['Apple']\n",
        "apple_price"
      ],
      "metadata": {
        "colab": {
          "base_uri": "https://localhost:8080/"
        },
        "id": "2l1RV9QsIcw6",
        "outputId": "c8345f0f-5031-4cb7-fe18-50c8732252e3"
      },
      "execution_count": 16,
      "outputs": [
        {
          "output_type": "execute_result",
          "data": {
            "text/plain": [
              "196"
            ]
          },
          "metadata": {},
          "execution_count": 16
        }
      ]
    },
    {
      "cell_type": "code",
      "source": [
        "'Apple' in stocks_price_series"
      ],
      "metadata": {
        "colab": {
          "base_uri": "https://localhost:8080/"
        },
        "id": "GGjC0piBIu9I",
        "outputId": "48e161fc-ddf0-456f-9160-25bcf1a120da"
      },
      "execution_count": 17,
      "outputs": [
        {
          "output_type": "execute_result",
          "data": {
            "text/plain": [
              "True"
            ]
          },
          "metadata": {},
          "execution_count": 17
        }
      ]
    },
    {
      "cell_type": "code",
      "source": [
        "np.random.seed(0)\n",
        "A = np.random.randn(20)\n",
        "s = pd.Series(A)\n",
        "s"
      ],
      "metadata": {
        "colab": {
          "base_uri": "https://localhost:8080/"
        },
        "id": "53hM1GcmI9gF",
        "outputId": "35b2327e-84eb-48fb-d30a-c9e644c2e6a5"
      },
      "execution_count": 19,
      "outputs": [
        {
          "output_type": "execute_result",
          "data": {
            "text/plain": [
              "0     1.764052\n",
              "1     0.400157\n",
              "2     0.978738\n",
              "3     2.240893\n",
              "4     1.867558\n",
              "5    -0.977278\n",
              "6     0.950088\n",
              "7    -0.151357\n",
              "8    -0.103219\n",
              "9     0.410599\n",
              "10    0.144044\n",
              "11    1.454274\n",
              "12    0.761038\n",
              "13    0.121675\n",
              "14    0.443863\n",
              "15    0.333674\n",
              "16    1.494079\n",
              "17   -0.205158\n",
              "18    0.313068\n",
              "19   -0.854096\n",
              "dtype: float64"
            ]
          },
          "metadata": {},
          "execution_count": 19
        }
      ]
    },
    {
      "cell_type": "code",
      "source": [
        "s[0]\n",
        "s[1]\n",
        "s[5:10]"
      ],
      "metadata": {
        "colab": {
          "base_uri": "https://localhost:8080/"
        },
        "id": "qNxGQ473JgTW",
        "outputId": "60bea3b9-7394-47ef-c0c2-1deabb6e72fa"
      },
      "execution_count": 20,
      "outputs": [
        {
          "output_type": "execute_result",
          "data": {
            "text/plain": [
              "5   -0.977278\n",
              "6    0.950088\n",
              "7   -0.151357\n",
              "8   -0.103219\n",
              "9    0.410599\n",
              "dtype: float64"
            ]
          },
          "metadata": {},
          "execution_count": 20
        }
      ]
    },
    {
      "cell_type": "code",
      "source": [
        "A = np.random.randint(0, 10, 10)\n",
        "series = pd.Series(A)\n",
        "series"
      ],
      "metadata": {
        "colab": {
          "base_uri": "https://localhost:8080/"
        },
        "id": "Fy6XWGrJKX7s",
        "outputId": "2d52c8fd-0de6-4cd7-b497-6f280871eb4a"
      },
      "execution_count": 23,
      "outputs": [
        {
          "output_type": "execute_result",
          "data": {
            "text/plain": [
              "0    8\n",
              "1    1\n",
              "2    1\n",
              "3    7\n",
              "4    9\n",
              "5    9\n",
              "6    3\n",
              "7    6\n",
              "8    7\n",
              "9    2\n",
              "dtype: int64"
            ]
          },
          "metadata": {},
          "execution_count": 23
        }
      ]
    }
  ]
}